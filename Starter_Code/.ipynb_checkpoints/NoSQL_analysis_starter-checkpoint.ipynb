{
 "cells": [
  {
   "cell_type": "markdown",
   "id": "9a57c4c6",
   "metadata": {},
   "source": [
    "# Eat Safe, Love"
   ]
  },
  {
   "cell_type": "markdown",
   "id": "064ef857",
   "metadata": {},
   "source": [
    "## Notebook Set Up"
   ]
  },
  {
   "cell_type": "code",
   "execution_count": 4,
   "id": "3ecdd008",
   "metadata": {},
   "outputs": [],
   "source": [
    "# Import dependencies\n",
    "from pymongo import MongoClient\n",
    "from pprint import pprint"
   ]
  },
  {
   "cell_type": "code",
   "execution_count": 5,
   "id": "59390c4a",
   "metadata": {},
   "outputs": [],
   "source": [
    "# Create an instance of MongoClient\n",
    "mongo = MongoClient(port=27017)"
   ]
  },
  {
   "cell_type": "code",
   "execution_count": 6,
   "id": "71e373c1",
   "metadata": {},
   "outputs": [],
   "source": [
    "# assign the uk_food database to a variable name\n",
    "db = mongo['uk_food']"
   ]
  },
  {
   "cell_type": "code",
   "execution_count": 7,
   "id": "18ab463c",
   "metadata": {},
   "outputs": [
    {
     "name": "stdout",
     "output_type": "stream",
     "text": [
      "['establishments']\n"
     ]
    }
   ],
   "source": [
    "# review the collections in our database\n",
    "print(db.list_collection_names())"
   ]
  },
  {
   "cell_type": "code",
   "execution_count": 8,
   "id": "11c9f11b",
   "metadata": {},
   "outputs": [],
   "source": [
    "# assign the collection to a variable\n",
    "establishments = db['establishments']"
   ]
  },
  {
   "cell_type": "code",
   "execution_count": 9,
   "id": "d1a5f49c-0e4c-4969-aef6-8ff0926e0a5b",
   "metadata": {},
   "outputs": [
    {
     "name": "stdout",
     "output_type": "stream",
     "text": [
      "{'AddressLine1': 'East Cliff Pavilion',\n",
      " 'AddressLine2': 'Wear Bay Road',\n",
      " 'AddressLine3': 'Folkestone',\n",
      " 'AddressLine4': 'Kent',\n",
      " 'BusinessName': 'The Pavilion',\n",
      " 'BusinessType': 'Restaurant/Cafe/Canteen',\n",
      " 'BusinessTypeID': 1,\n",
      " 'ChangesByServerID': 0,\n",
      " 'Distance': 4591.765489457773,\n",
      " 'FHRSID': 1043695,\n",
      " 'LocalAuthorityBusinessID': 'PI/000073616',\n",
      " 'LocalAuthorityCode': '188',\n",
      " 'LocalAuthorityEmailAddress': 'foodteam@folkestone-hythe.gov.uk',\n",
      " 'LocalAuthorityName': 'Folkestone and Hythe',\n",
      " 'LocalAuthorityWebSite': 'http://www.folkestone-hythe.gov.uk',\n",
      " 'NewRatingPending': False,\n",
      " 'Phone': '',\n",
      " 'PostCode': 'CT19 6BL',\n",
      " 'RatingDate': '2018-04-04T00:00:00',\n",
      " 'RatingKey': 'fhrs_5_en-gb',\n",
      " 'RatingValue': 5,\n",
      " 'RightToReply': '',\n",
      " 'SchemeType': 'FHRS',\n",
      " '_id': ObjectId('678fcddcdc6d524740cca78a'),\n",
      " 'geocode': {'latitude': 51.083812, 'longitude': 1.195625},\n",
      " 'links': [{'href': 'https://api.ratings.food.gov.uk/establishments/1043695',\n",
      "            'rel': 'self'}],\n",
      " 'meta': {'dataSource': None,\n",
      "          'extractDate': '0001-01-01T00:00:00',\n",
      "          'itemCount': 0,\n",
      "          'pageNumber': 0,\n",
      "          'pageSize': 0,\n",
      "          'returncode': None,\n",
      "          'totalCount': 0,\n",
      "          'totalPages': 0},\n",
      " 'scores': {'ConfidenceInManagement': 5, 'Hygiene': 5, 'Structural': 5}}\n"
     ]
    }
   ],
   "source": [
    "# Find one document in the establishments collection\n",
    "result = establishments.find_one()\n",
    "\n",
    "# Pretty print the result\n",
    "pprint(result)"
   ]
  },
  {
   "cell_type": "markdown",
   "id": "d5671434",
   "metadata": {},
   "source": [
    "## Part 3: Exploratory Analysis\n",
    "Unless otherwise stated, for each question: \n",
    "* Use `count_documents` to display the number of documents contained in the result.\n",
    "* Display the first document in the results using `pprint`.\n",
    "* Convert the result to a Pandas DataFrame, print the number of rows in the DataFrame, and display the first 10 rows."
   ]
  },
  {
   "cell_type": "markdown",
   "id": "314bd884",
   "metadata": {},
   "source": [
    "### 1. Which establishments have a hygiene score equal to 20?"
   ]
  },
  {
   "cell_type": "code",
   "execution_count": 10,
   "id": "c2da7648",
   "metadata": {},
   "outputs": [
    {
     "name": "stdout",
     "output_type": "stream",
     "text": [
      "Number of establishments with a hygiene score of 20: 41\n",
      "{'AddressLine1': '5-6 Southfields Road',\n",
      " 'AddressLine2': 'Eastbourne',\n",
      " 'AddressLine3': 'East Sussex',\n",
      " 'AddressLine4': '',\n",
      " 'BusinessName': 'The Chase Rest Home',\n",
      " 'BusinessType': 'Caring Premises',\n",
      " 'BusinessTypeID': 5,\n",
      " 'ChangesByServerID': 0,\n",
      " 'Distance': 4613.888288172291,\n",
      " 'FHRSID': 110681,\n",
      " 'LocalAuthorityBusinessID': '4029',\n",
      " 'LocalAuthorityCode': '102',\n",
      " 'LocalAuthorityEmailAddress': 'Customerfirst@eastbourne.gov.uk',\n",
      " 'LocalAuthorityName': 'Eastbourne',\n",
      " 'LocalAuthorityWebSite': 'http://www.eastbourne.gov.uk/foodratings',\n",
      " 'NewRatingPending': False,\n",
      " 'Phone': '',\n",
      " 'PostCode': 'BN21 1BU',\n",
      " 'RatingDate': '2021-09-23T00:00:00',\n",
      " 'RatingKey': 'fhrs_0_en-gb',\n",
      " 'RatingValue': 0,\n",
      " 'RightToReply': '',\n",
      " 'SchemeType': 'FHRS',\n",
      " '_id': ObjectId('678fcddddc6d524740ccc2bc'),\n",
      " 'geocode': {'latitude': 50.769705, 'longitude': 0.27694},\n",
      " 'links': [{'href': 'https://api.ratings.food.gov.uk/establishments/110681',\n",
      "            'rel': 'self'}],\n",
      " 'meta': {'dataSource': None,\n",
      "          'extractDate': '0001-01-01T00:00:00',\n",
      "          'itemCount': 0,\n",
      "          'pageNumber': 0,\n",
      "          'pageSize': 0,\n",
      "          'returncode': None,\n",
      "          'totalCount': 0,\n",
      "          'totalPages': 0},\n",
      " 'scores': {'ConfidenceInManagement': 20, 'Hygiene': 20, 'Structural': 20}}\n"
     ]
    }
   ],
   "source": [
    "# Find the establishments with a hygiene score of 20\n",
    "query = {'scores.Hygiene': 20}\n",
    "\n",
    "# Use count_documents to display the number of documents in the result\n",
    "count = establishments.count_documents(query)\n",
    "print(f\"Number of establishments with a hygiene score of 20: {count}\")\n",
    "\n",
    "# Display the first document in the results using pprint\n",
    "\n",
    "result = establishments.find_one(query)\n",
    "\n",
    "pprint(result)"
   ]
  },
  {
   "cell_type": "code",
   "execution_count": 11,
   "id": "a6e5cece",
   "metadata": {},
   "outputs": [
    {
     "name": "stdout",
     "output_type": "stream",
     "text": [
      "Number of rows in the DataFrame: 28\n"
     ]
    }
   ],
   "source": [
    "# Convert the result to a Pandas DataFrame\n",
    "import pandas as pd\n",
    "hygiene_df = pd.DataFrame(list(result))\n",
    "# Display the number of rows in the DataFrame\n",
    "number_of_rows = hygiene_df.shape[0]\n",
    "\n",
    "print(f\"Number of rows in the DataFrame: {number_of_rows}\")\n",
    "\n",
    "#\n"
   ]
  },
  {
   "cell_type": "code",
   "execution_count": 12,
   "id": "86545870-0a80-45c3-8328-630dc21e04bf",
   "metadata": {},
   "outputs": [
    {
     "name": "stdout",
     "output_type": "stream",
     "text": [
      "                          0\n",
      "0                       _id\n",
      "1                    FHRSID\n",
      "2         ChangesByServerID\n",
      "3  LocalAuthorityBusinessID\n",
      "4              BusinessName\n",
      "5              BusinessType\n",
      "6            BusinessTypeID\n",
      "7              AddressLine1\n",
      "8              AddressLine2\n",
      "9              AddressLine3\n"
     ]
    }
   ],
   "source": [
    "# Display the first 10 rows of the DataFrame\n",
    "print(hygiene_df.head(10))"
   ]
  },
  {
   "cell_type": "markdown",
   "id": "0ef4395a",
   "metadata": {},
   "source": [
    "### 2. Which establishments in London have a `RatingValue` greater than or equal to 4?"
   ]
  },
  {
   "cell_type": "code",
   "execution_count": 13,
   "id": "93c63829",
   "metadata": {},
   "outputs": [
    {
     "name": "stdout",
     "output_type": "stream",
     "text": [
      "{'AddressLine1': 'Oak Apple Farm Building 103 Sheernes Docks',\n",
      " 'AddressLine2': 'Sheppy Kent',\n",
      " 'AddressLine3': '',\n",
      " 'AddressLine4': '',\n",
      " 'BusinessName': \"Charlie's\",\n",
      " 'BusinessType': 'Other catering premises',\n",
      " 'BusinessTypeID': 7841,\n",
      " 'ChangesByServerID': 0,\n",
      " 'Distance': 4627.439467780196,\n",
      " 'FHRSID': 621707,\n",
      " 'LocalAuthorityBusinessID': 'PI/000025307',\n",
      " 'LocalAuthorityCode': '508',\n",
      " 'LocalAuthorityEmailAddress': 'publicprotection@cityoflondon.gov.uk',\n",
      " 'LocalAuthorityName': 'City of London Corporation',\n",
      " 'LocalAuthorityWebSite': 'http://www.cityoflondon.gov.uk/Corporation/homepage.htm',\n",
      " 'NewRatingPending': False,\n",
      " 'Phone': '',\n",
      " 'PostCode': 'ME12',\n",
      " 'RatingDate': '2021-10-18T00:00:00',\n",
      " 'RatingKey': 'fhrs_4_en-gb',\n",
      " 'RatingValue': 4,\n",
      " 'RightToReply': '',\n",
      " 'SchemeType': 'FHRS',\n",
      " '_id': ObjectId('678fcddedc6d524740ccdcd7'),\n",
      " 'geocode': {'latitude': 51.369321, 'longitude': 0.508551},\n",
      " 'links': [{'href': 'https://api.ratings.food.gov.uk/establishments/621707',\n",
      "            'rel': 'self'}],\n",
      " 'meta': {'dataSource': None,\n",
      "          'extractDate': '0001-01-01T00:00:00',\n",
      "          'itemCount': 0,\n",
      "          'pageNumber': 0,\n",
      "          'pageSize': 0,\n",
      "          'returncode': None,\n",
      "          'totalCount': 0,\n",
      "          'totalPages': 0},\n",
      " 'scores': {'ConfidenceInManagement': 5, 'Hygiene': 5, 'Structural': 10}}\n"
     ]
    }
   ],
   "source": [
    "# Find the establishments with London as the Local Authority and has a RatingValue greater than or equal to 4.\n",
    "query ={'LocalAuthorityName':{'$regex':'London'},'RatingValue':{'$gte': 4}}\n",
    "\n",
    "# Retrieve the establishments that match the query\n",
    "results = establishments.find(query)\n",
    "\n",
    "# Display the first document in the results using pprint\n",
    "first_document = establishments.find_one(query)\n",
    "pprint(first_document)"
   ]
  },
  {
   "cell_type": "code",
   "execution_count": 14,
   "id": "2f74ec14-665b-4000-8ec4-c466f83d1a51",
   "metadata": {},
   "outputs": [
    {
     "name": "stdout",
     "output_type": "stream",
     "text": [
      "33\n"
     ]
    }
   ],
   "source": [
    "# Use count_documents to display the number of documents in the result\n",
    "count = establishments.count_documents(query)\n",
    "pprint(count)"
   ]
  },
  {
   "cell_type": "code",
   "execution_count": 15,
   "id": "07e24ccb",
   "metadata": {},
   "outputs": [
    {
     "name": "stdout",
     "output_type": "stream",
     "text": [
      "Number of rows in the Londdon DataFrame: 28\n"
     ]
    },
    {
     "data": {
      "text/html": [
       "<div>\n",
       "<style scoped>\n",
       "    .dataframe tbody tr th:only-of-type {\n",
       "        vertical-align: middle;\n",
       "    }\n",
       "\n",
       "    .dataframe tbody tr th {\n",
       "        vertical-align: top;\n",
       "    }\n",
       "\n",
       "    .dataframe thead th {\n",
       "        text-align: right;\n",
       "    }\n",
       "</style>\n",
       "<table border=\"1\" class=\"dataframe\">\n",
       "  <thead>\n",
       "    <tr style=\"text-align: right;\">\n",
       "      <th></th>\n",
       "      <th>0</th>\n",
       "    </tr>\n",
       "  </thead>\n",
       "  <tbody>\n",
       "    <tr>\n",
       "      <th>0</th>\n",
       "      <td>_id</td>\n",
       "    </tr>\n",
       "    <tr>\n",
       "      <th>1</th>\n",
       "      <td>FHRSID</td>\n",
       "    </tr>\n",
       "    <tr>\n",
       "      <th>2</th>\n",
       "      <td>ChangesByServerID</td>\n",
       "    </tr>\n",
       "    <tr>\n",
       "      <th>3</th>\n",
       "      <td>LocalAuthorityBusinessID</td>\n",
       "    </tr>\n",
       "    <tr>\n",
       "      <th>4</th>\n",
       "      <td>BusinessName</td>\n",
       "    </tr>\n",
       "    <tr>\n",
       "      <th>5</th>\n",
       "      <td>BusinessType</td>\n",
       "    </tr>\n",
       "    <tr>\n",
       "      <th>6</th>\n",
       "      <td>BusinessTypeID</td>\n",
       "    </tr>\n",
       "    <tr>\n",
       "      <th>7</th>\n",
       "      <td>AddressLine1</td>\n",
       "    </tr>\n",
       "    <tr>\n",
       "      <th>8</th>\n",
       "      <td>AddressLine2</td>\n",
       "    </tr>\n",
       "    <tr>\n",
       "      <th>9</th>\n",
       "      <td>AddressLine3</td>\n",
       "    </tr>\n",
       "  </tbody>\n",
       "</table>\n",
       "</div>"
      ],
      "text/plain": [
       "                          0\n",
       "0                       _id\n",
       "1                    FHRSID\n",
       "2         ChangesByServerID\n",
       "3  LocalAuthorityBusinessID\n",
       "4              BusinessName\n",
       "5              BusinessType\n",
       "6            BusinessTypeID\n",
       "7              AddressLine1\n",
       "8              AddressLine2\n",
       "9              AddressLine3"
      ]
     },
     "execution_count": 15,
     "metadata": {},
     "output_type": "execute_result"
    }
   ],
   "source": [
    "# Convert the result to a Pandas DataFrame\n",
    "London_df = pd.DataFrame(list(result))\n",
    "# Display the number of rows in the DataFrame\n",
    "number_of_rows = London_df.shape[0]\n",
    "print(f\"Number of rows in the Londdon DataFrame: {number_of_rows}\")\n",
    "# Display the first 10 rows of the DataFrame\n",
    "London_df.head(10)"
   ]
  },
  {
   "attachments": {},
   "cell_type": "markdown",
   "id": "4e570caf",
   "metadata": {},
   "source": [
    "### 3. What are the top 5 establishments with a `RatingValue` rating value of 5, sorted by lowest hygiene score, nearest to the new restaurant added, \"Penang Flavours\"?"
   ]
  },
  {
   "cell_type": "code",
   "execution_count": 16,
   "id": "7f599f3d",
   "metadata": {},
   "outputs": [
    {
     "name": "stdout",
     "output_type": "stream",
     "text": [
      "[{'AddressLine1': '130 - 132 Plumstead High Street',\n",
      "  'AddressLine2': '',\n",
      "  'AddressLine3': 'Plumstead',\n",
      "  'AddressLine4': 'Greenwich',\n",
      "  'BusinessName': 'Volunteer',\n",
      "  'BusinessType': 'Pub/bar/nightclub',\n",
      "  'BusinessTypeID': 7843,\n",
      "  'ChangesByServerID': 0,\n",
      "  'Distance': 4646.965634598608,\n",
      "  'FHRSID': 694609,\n",
      "  'LocalAuthorityBusinessID': 'PI/000116619',\n",
      "  'LocalAuthorityCode': '511',\n",
      "  'LocalAuthorityEmailAddress': 'health@royalgreenwich.gov.uk',\n",
      "  'LocalAuthorityName': 'Greenwich',\n",
      "  'LocalAuthorityWebSite': 'http://www.royalgreenwich.gov.uk',\n",
      "  'NewRatingPending': False,\n",
      "  'Phone': '',\n",
      "  'PostCode': 'SE18 1JQ',\n",
      "  'RatingDate': '2019-08-05T00:00:00',\n",
      "  'RatingKey': 'fhrs_5_en-gb',\n",
      "  'RatingValue': 5,\n",
      "  'RightToReply': '',\n",
      "  'SchemeType': 'FHRS',\n",
      "  '_id': ObjectId('678fcde1dc6d524740cd1b1b'),\n",
      "  'geocode': {'latitude': 51.4873437, 'longitude': 0.09208},\n",
      "  'links': [{'href': 'http://api.ratings.food.gov.uk/establishments/694609',\n",
      "             'rel': 'self'}],\n",
      "  'meta': {'dataSource': None,\n",
      "           'extractDate': '0001-01-01T00:00:00',\n",
      "           'itemCount': 0,\n",
      "           'pageNumber': 0,\n",
      "           'pageSize': 0,\n",
      "           'returncode': None,\n",
      "           'totalCount': 0,\n",
      "           'totalPages': 0},\n",
      "  'scores': {'ConfidenceInManagement': 0, 'Hygiene': 0, 'Structural': 0}},\n",
      " {'AddressLine1': 'Plumstead Manor School Old Mill Road',\n",
      "  'AddressLine2': '',\n",
      "  'AddressLine3': 'Plumstead',\n",
      "  'AddressLine4': 'Greenwich',\n",
      "  'BusinessName': 'Plumstead Manor Nursery',\n",
      "  'BusinessType': 'Caring Premises',\n",
      "  'BusinessTypeID': 5,\n",
      "  'ChangesByServerID': 0,\n",
      "  'Distance': 4646.9740101340385,\n",
      "  'FHRSID': 695241,\n",
      "  'LocalAuthorityBusinessID': 'PI/000179088',\n",
      "  'LocalAuthorityCode': '511',\n",
      "  'LocalAuthorityEmailAddress': 'health@royalgreenwich.gov.uk',\n",
      "  'LocalAuthorityName': 'Greenwich',\n",
      "  'LocalAuthorityWebSite': 'http://www.royalgreenwich.gov.uk',\n",
      "  'NewRatingPending': False,\n",
      "  'Phone': '',\n",
      "  'PostCode': 'SE18 1QG',\n",
      "  'RatingDate': '2021-06-16T00:00:00',\n",
      "  'RatingKey': 'fhrs_5_en-gb',\n",
      "  'RatingValue': 5,\n",
      "  'RightToReply': '',\n",
      "  'SchemeType': 'FHRS',\n",
      "  '_id': ObjectId('678fcde1dc6d524740cd1b33'),\n",
      "  'geocode': {'latitude': 51.481517791748, 'longitude': 0.0859939977526665},\n",
      "  'links': [{'href': 'http://api.ratings.food.gov.uk/establishments/695241',\n",
      "             'rel': 'self'}],\n",
      "  'meta': {'dataSource': None,\n",
      "           'extractDate': '0001-01-01T00:00:00',\n",
      "           'itemCount': 0,\n",
      "           'pageNumber': 0,\n",
      "           'pageSize': 0,\n",
      "           'returncode': None,\n",
      "           'totalCount': 0,\n",
      "           'totalPages': 0},\n",
      "  'scores': {'ConfidenceInManagement': 5, 'Hygiene': 0, 'Structural': 0}},\n",
      " {'AddressLine1': '35 Lakedale Road',\n",
      "  'AddressLine2': '',\n",
      "  'AddressLine3': 'Plumstead',\n",
      "  'AddressLine4': 'Greenwich',\n",
      "  'BusinessName': 'Atlantic Fish Bar',\n",
      "  'BusinessType': 'Takeaway/sandwich shop',\n",
      "  'BusinessTypeID': 7844,\n",
      "  'ChangesByServerID': 0,\n",
      "  'Distance': 4646.974611855838,\n",
      "  'FHRSID': 694478,\n",
      "  'LocalAuthorityBusinessID': 'PI/000086506',\n",
      "  'LocalAuthorityCode': '511',\n",
      "  'LocalAuthorityEmailAddress': 'health@royalgreenwich.gov.uk',\n",
      "  'LocalAuthorityName': 'Greenwich',\n",
      "  'LocalAuthorityWebSite': 'http://www.royalgreenwich.gov.uk',\n",
      "  'NewRatingPending': False,\n",
      "  'Phone': '',\n",
      "  'PostCode': 'SE18 1PR',\n",
      "  'RatingDate': '2021-06-16T00:00:00',\n",
      "  'RatingKey': 'fhrs_5_en-gb',\n",
      "  'RatingValue': 5,\n",
      "  'RightToReply': '',\n",
      "  'SchemeType': 'FHRS',\n",
      "  '_id': ObjectId('678fcde1dc6d524740cd1b36'),\n",
      "  'geocode': {'latitude': 51.4867296, 'longitude': 0.0912164},\n",
      "  'links': [{'href': 'http://api.ratings.food.gov.uk/establishments/694478',\n",
      "             'rel': 'self'}],\n",
      "  'meta': {'dataSource': None,\n",
      "           'extractDate': '0001-01-01T00:00:00',\n",
      "           'itemCount': 0,\n",
      "           'pageNumber': 0,\n",
      "           'pageSize': 0,\n",
      "           'returncode': None,\n",
      "           'totalCount': 0,\n",
      "           'totalPages': 0},\n",
      "  'scores': {'ConfidenceInManagement': 5, 'Hygiene': 0, 'Structural': 0}},\n",
      " {'AddressLine1': '144 - 146 Plumstead High Street',\n",
      "  'AddressLine2': '',\n",
      "  'AddressLine3': 'Plumstead',\n",
      "  'AddressLine4': 'Greenwich',\n",
      "  'BusinessName': 'Iceland',\n",
      "  'BusinessType': 'Retailers - supermarkets/hypermarkets',\n",
      "  'BusinessTypeID': 7840,\n",
      "  'ChangesByServerID': 0,\n",
      "  'Distance': 4646.946071297699,\n",
      "  'FHRSID': 695223,\n",
      "  'LocalAuthorityBusinessID': 'PI/000178842',\n",
      "  'LocalAuthorityCode': '511',\n",
      "  'LocalAuthorityEmailAddress': 'health@royalgreenwich.gov.uk',\n",
      "  'LocalAuthorityName': 'Greenwich',\n",
      "  'LocalAuthorityWebSite': 'http://www.royalgreenwich.gov.uk',\n",
      "  'NewRatingPending': False,\n",
      "  'Phone': '',\n",
      "  'PostCode': 'SE18 1JQ',\n",
      "  'RatingDate': '2019-11-13T00:00:00',\n",
      "  'RatingKey': 'fhrs_5_en-gb',\n",
      "  'RatingValue': 5,\n",
      "  'RightToReply': '',\n",
      "  'SchemeType': 'FHRS',\n",
      "  '_id': ObjectId('678fcde1dc6d524740cd1aee'),\n",
      "  'geocode': {'latitude': 51.4871482849121, 'longitude': 0.0924199968576431},\n",
      "  'links': [{'href': 'http://api.ratings.food.gov.uk/establishments/695223',\n",
      "             'rel': 'self'}],\n",
      "  'meta': {'dataSource': None,\n",
      "           'extractDate': '0001-01-01T00:00:00',\n",
      "           'itemCount': 0,\n",
      "           'pageNumber': 0,\n",
      "           'pageSize': 0,\n",
      "           'returncode': None,\n",
      "           'totalCount': 0,\n",
      "           'totalPages': 0},\n",
      "  'scores': {'ConfidenceInManagement': 5, 'Hygiene': 0, 'Structural': 5}},\n",
      " {'AddressLine1': 'Restaurant And Premises 107A Plumstead High Street',\n",
      "  'AddressLine2': '',\n",
      "  'AddressLine3': 'Plumstead',\n",
      "  'AddressLine4': 'Greenwich',\n",
      "  'BusinessName': 'Howe and Co Fish and Chips - Van 17',\n",
      "  'BusinessType': 'Mobile caterer',\n",
      "  'BusinessTypeID': 7846,\n",
      "  'ChangesByServerID': 0,\n",
      "  'Distance': 4646.95593107927,\n",
      "  'FHRSID': 1380578,\n",
      "  'LocalAuthorityBusinessID': '14425',\n",
      "  'LocalAuthorityCode': '511',\n",
      "  'LocalAuthorityEmailAddress': 'health@royalgreenwich.gov.uk',\n",
      "  'LocalAuthorityName': 'Greenwich',\n",
      "  'LocalAuthorityWebSite': 'http://www.royalgreenwich.gov.uk',\n",
      "  'NewRatingPending': False,\n",
      "  'Phone': '',\n",
      "  'PostCode': 'SE18 1SE',\n",
      "  'RatingDate': '2021-11-11T00:00:00',\n",
      "  'RatingKey': 'fhrs_5_en-gb',\n",
      "  'RatingValue': 5,\n",
      "  'RightToReply': '',\n",
      "  'SchemeType': 'FHRS',\n",
      "  '_id': ObjectId('678fcde1dc6d524740cd1afe'),\n",
      "  'geocode': {'latitude': 51.4875335693359, 'longitude': 0.0925370007753372},\n",
      "  'links': [{'href': 'http://api.ratings.food.gov.uk/establishments/1380578',\n",
      "             'rel': 'self'}],\n",
      "  'meta': {'dataSource': None,\n",
      "           'extractDate': '0001-01-01T00:00:00',\n",
      "           'itemCount': 0,\n",
      "           'pageNumber': 0,\n",
      "           'pageSize': 0,\n",
      "           'returncode': None,\n",
      "           'totalCount': 0,\n",
      "           'totalPages': 0},\n",
      "  'scores': {'ConfidenceInManagement': 0, 'Hygiene': 0, 'Structural': 0}}]\n"
     ]
    }
   ],
   "source": [
    "# Search within 0.01 degree on either side of the latitude and longitude.\n",
    "# Rating value must equal 5\n",
    "# Sort by hygiene score\n",
    "\n",
    "degree_search = 0.01\n",
    "latitude = 51.49014200\n",
    "longitude = 0.08384000\n",
    "query = {'RatingValue':5,\n",
    "        \"$and\": [\n",
    "        {\"geocode.latitude\": {\"$gte\": latitude - degree_search, \"$lte\": latitude + degree_search}},\n",
    "        {\"geocode.longitude\": {\"$gte\": longitude - degree_search, \"$lte\": longitude + degree_search}}\n",
    "        ]}\n",
    "sort =[('scores.Hygiene',1)]\n",
    "results=establishments.find(query).sort(sort).limit(5)\n",
    "# Print the results\n",
    "pprint(list(results))"
   ]
  },
  {
   "cell_type": "code",
   "execution_count": 17,
   "id": "a6ad16f7",
   "metadata": {},
   "outputs": [],
   "source": [
    "# Convert result to Pandas DataFrame\n",
    "closetoPenang_df = pd.DataFrame(list(results))"
   ]
  },
  {
   "cell_type": "markdown",
   "id": "67281254",
   "metadata": {},
   "source": [
    "### 4. How many establishments in each Local Authority area have a hygiene score of 0?"
   ]
  },
  {
   "cell_type": "code",
   "execution_count": 18,
   "id": "4eeb227e",
   "metadata": {},
   "outputs": [],
   "source": [
    "# Create a pipeline that: \n",
    "# 1. Matches establishments with a hygiene score of 0\n",
    "match_query = {'$match': {\"scores.Hygiene\": 0}}\n",
    "\n",
    "# 2. Groups the matches by Local Authority\n",
    "group_query = {'$group':{'_id':\"$LocalAuthorityName\",\n",
    "                'count': {'$sum':1}\n",
    "                        }\n",
    "            }\n",
    "# 3. Sorts the matches from highest to lowest\n",
    "sort_values = {'$sort': { 'count': -1 }}\n",
    "\n",
    "# Put the pipeline together\n",
    "pipeline = [match_query, group_query, sort_values]\n",
    "\n"
   ]
  },
  {
   "cell_type": "code",
   "execution_count": 19,
   "id": "22477342-b111-4657-bf0b-32a911187520",
   "metadata": {},
   "outputs": [],
   "source": [
    "# Run the aggregation pipeline\n",
    "results = list(establishments.aggregate(pipeline))\n"
   ]
  },
  {
   "cell_type": "code",
   "execution_count": 20,
   "id": "d25cf600-fb6a-4ba5-9885-5752219606f8",
   "metadata": {},
   "outputs": [
    {
     "name": "stdout",
     "output_type": "stream",
     "text": [
      "number of documents in the result:  55\n",
      "*************************************\n"
     ]
    }
   ],
   "source": [
    "# Print the number of documents in the result\n",
    "print(\"number of documents in the result: \",len(results))\n",
    "print(\"*************************************\")"
   ]
  },
  {
   "cell_type": "code",
   "execution_count": 21,
   "id": "fde0f053-a35d-4df7-9433-dd2ff0c806c0",
   "metadata": {},
   "outputs": [
    {
     "name": "stdout",
     "output_type": "stream",
     "text": [
      "{'_id': 'Thanet', 'count': 1130}\n",
      "{'_id': 'Greenwich', 'count': 882}\n",
      "{'_id': 'Maidstone', 'count': 713}\n",
      "{'_id': 'Newham', 'count': 711}\n",
      "{'_id': 'Swale', 'count': 686}\n",
      "{'_id': 'Chelmsford', 'count': 680}\n",
      "{'_id': 'Medway', 'count': 672}\n",
      "{'_id': 'Bexley', 'count': 607}\n",
      "{'_id': 'Southend-On-Sea', 'count': 586}\n",
      "{'_id': 'Tendring', 'count': 542}\n"
     ]
    }
   ],
   "source": [
    "# Print the first 10 results\n",
    "for result in results[:10]:\n",
    "    print(result)"
   ]
  },
  {
   "cell_type": "code",
   "execution_count": 22,
   "id": "d8aab364",
   "metadata": {},
   "outputs": [
    {
     "name": "stdout",
     "output_type": "stream",
     "text": [
      "Number of rows in the HygieneResulsts DataFrame: 55\n"
     ]
    },
    {
     "data": {
      "text/html": [
       "<div>\n",
       "<style scoped>\n",
       "    .dataframe tbody tr th:only-of-type {\n",
       "        vertical-align: middle;\n",
       "    }\n",
       "\n",
       "    .dataframe tbody tr th {\n",
       "        vertical-align: top;\n",
       "    }\n",
       "\n",
       "    .dataframe thead th {\n",
       "        text-align: right;\n",
       "    }\n",
       "</style>\n",
       "<table border=\"1\" class=\"dataframe\">\n",
       "  <thead>\n",
       "    <tr style=\"text-align: right;\">\n",
       "      <th></th>\n",
       "      <th>_id</th>\n",
       "      <th>count</th>\n",
       "    </tr>\n",
       "  </thead>\n",
       "  <tbody>\n",
       "    <tr>\n",
       "      <th>0</th>\n",
       "      <td>Thanet</td>\n",
       "      <td>1130</td>\n",
       "    </tr>\n",
       "    <tr>\n",
       "      <th>1</th>\n",
       "      <td>Greenwich</td>\n",
       "      <td>882</td>\n",
       "    </tr>\n",
       "    <tr>\n",
       "      <th>2</th>\n",
       "      <td>Maidstone</td>\n",
       "      <td>713</td>\n",
       "    </tr>\n",
       "    <tr>\n",
       "      <th>3</th>\n",
       "      <td>Newham</td>\n",
       "      <td>711</td>\n",
       "    </tr>\n",
       "    <tr>\n",
       "      <th>4</th>\n",
       "      <td>Swale</td>\n",
       "      <td>686</td>\n",
       "    </tr>\n",
       "    <tr>\n",
       "      <th>5</th>\n",
       "      <td>Chelmsford</td>\n",
       "      <td>680</td>\n",
       "    </tr>\n",
       "    <tr>\n",
       "      <th>6</th>\n",
       "      <td>Medway</td>\n",
       "      <td>672</td>\n",
       "    </tr>\n",
       "    <tr>\n",
       "      <th>7</th>\n",
       "      <td>Bexley</td>\n",
       "      <td>607</td>\n",
       "    </tr>\n",
       "    <tr>\n",
       "      <th>8</th>\n",
       "      <td>Southend-On-Sea</td>\n",
       "      <td>586</td>\n",
       "    </tr>\n",
       "    <tr>\n",
       "      <th>9</th>\n",
       "      <td>Tendring</td>\n",
       "      <td>542</td>\n",
       "    </tr>\n",
       "  </tbody>\n",
       "</table>\n",
       "</div>"
      ],
      "text/plain": [
       "               _id  count\n",
       "0           Thanet   1130\n",
       "1        Greenwich    882\n",
       "2        Maidstone    713\n",
       "3           Newham    711\n",
       "4            Swale    686\n",
       "5       Chelmsford    680\n",
       "6           Medway    672\n",
       "7           Bexley    607\n",
       "8  Southend-On-Sea    586\n",
       "9         Tendring    542"
      ]
     },
     "execution_count": 22,
     "metadata": {},
     "output_type": "execute_result"
    }
   ],
   "source": [
    "# Convert the result to a Pandas DataFrame\n",
    "HygieneResults_df = pd.DataFrame(results)\n",
    "# Display the number of rows in the DataFrame\n",
    "number_of_rows = HygieneResults_df.shape[0]\n",
    "print(f\"Number of rows in the HygieneResulsts DataFrame: {number_of_rows}\")\n",
    "# Display the first 10 rows of the DataFrame\n",
    "HygieneResults_df.head(10)"
   ]
  },
  {
   "cell_type": "code",
   "execution_count": null,
   "id": "4b6d2dd5-b035-4dd9-b4ad-7c38a57f382e",
   "metadata": {},
   "outputs": [],
   "source": []
  }
 ],
 "metadata": {
  "kernelspec": {
   "display_name": "Python 3 (ipykernel)",
   "language": "python",
   "name": "python3"
  },
  "language_info": {
   "codemirror_mode": {
    "name": "ipython",
    "version": 3
   },
   "file_extension": ".py",
   "mimetype": "text/x-python",
   "name": "python",
   "nbconvert_exporter": "python",
   "pygments_lexer": "ipython3",
   "version": "3.13.0"
  }
 },
 "nbformat": 4,
 "nbformat_minor": 5
}
